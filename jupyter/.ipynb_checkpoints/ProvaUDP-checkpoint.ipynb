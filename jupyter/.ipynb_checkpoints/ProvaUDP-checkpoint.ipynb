{
 "cells": [
  {
   "cell_type": "code",
   "execution_count": null,
   "id": "seasonal-destination",
   "metadata": {},
   "outputs": [
    {
     "name": "stdout",
     "output_type": "stream",
     "text": [
      "inserisci il messaggio da mandare \n",
      "on\n",
      "inserisci il messaggio da mandare \n",
      "off\n",
      "inserisci il messaggio da mandare \n",
      "on\n",
      "inserisci il messaggio da mandare \n",
      "off\n",
      "inserisci il messaggio da mandare \n",
      "on\n",
      "inserisci il messaggio da mandare \n",
      "off\n",
      "inserisci il messaggio da mandare \n",
      "on\n",
      "inserisci il messaggio da mandare \n",
      "on\n",
      "inserisci il messaggio da mandare \n",
      "off\n",
      "inserisci il messaggio da mandare \n",
      "on\n",
      "inserisci il messaggio da mandare \n",
      "ciao\n",
      "inserisci il messaggio da mandare \n",
      "off\n"
     ]
    }
   ],
   "source": [
    "import socket\n",
    "\n",
    "serverAddressPort   = (\"192.168.43.167\", 8010)\n",
    "\n",
    "bufferSize          = 1024\n",
    "\n",
    "# Create a UDP socket at client side\n",
    "\n",
    "UDPClientSocket = socket.socket(family=socket.AF_INET, type=socket.SOCK_DGRAM)\n",
    "\n",
    "# Send to server using created UDP socket\n",
    "\n",
    "while True:\n",
    "    msgFromClient       = input(\"inserisci il messaggio da mandare \\n\")\n",
    "    bytesToSend         = str.encode(msgFromClient)\n",
    "    UDPClientSocket.sendto(bytesToSend, serverAddressPort)\n"
   ]
  },
  {
   "cell_type": "code",
   "execution_count": null,
   "id": "engaged-absorption",
   "metadata": {},
   "outputs": [],
   "source": []
  }
 ],
 "metadata": {
  "kernelspec": {
   "display_name": "Python 3",
   "language": "python",
   "name": "python3"
  },
  "language_info": {
   "codemirror_mode": {
    "name": "ipython",
    "version": 3
   },
   "file_extension": ".py",
   "mimetype": "text/x-python",
   "name": "python",
   "nbconvert_exporter": "python",
   "pygments_lexer": "ipython3",
   "version": "3.9.7"
  }
 },
 "nbformat": 4,
 "nbformat_minor": 5
}
